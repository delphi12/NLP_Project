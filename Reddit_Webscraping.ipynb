{
  "nbformat": 4,
  "nbformat_minor": 0,
  "metadata": {
    "colab": {
      "provenance": [],
      "gpuType": "T4"
    },
    "kernelspec": {
      "name": "python3",
      "display_name": "Python 3"
    },
    "language_info": {
      "name": "python"
    },
    "accelerator": "GPU"
  },
  "cells": [
    {
      "cell_type": "code",
      "execution_count": null,
      "metadata": {
        "colab": {
          "base_uri": "https://localhost:8080/"
        },
        "id": "aiIz8m0BPCK4",
        "outputId": "c5e82205-919e-41b1-c895-1d40dbca24ff"
      },
      "outputs": [
        {
          "output_type": "stream",
          "name": "stdout",
          "text": [
            "Collecting praw\n",
            "  Downloading praw-7.7.1-py3-none-any.whl (191 kB)\n",
            "\u001b[2K     \u001b[90m━━━━━━━━━━━━━━━━━━━━━━━━━━━━━━━━━━━━━━━━\u001b[0m \u001b[32m191.0/191.0 kB\u001b[0m \u001b[31m2.3 MB/s\u001b[0m eta \u001b[36m0:00:00\u001b[0m\n",
            "\u001b[?25hCollecting prawcore<3,>=2.1 (from praw)\n",
            "  Downloading prawcore-2.4.0-py3-none-any.whl (17 kB)\n",
            "Collecting update-checker>=0.18 (from praw)\n",
            "  Downloading update_checker-0.18.0-py3-none-any.whl (7.0 kB)\n",
            "Requirement already satisfied: websocket-client>=0.54.0 in /usr/local/lib/python3.10/dist-packages (from praw) (1.7.0)\n",
            "Requirement already satisfied: requests<3.0,>=2.6.0 in /usr/local/lib/python3.10/dist-packages (from prawcore<3,>=2.1->praw) (2.31.0)\n",
            "Requirement already satisfied: charset-normalizer<4,>=2 in /usr/local/lib/python3.10/dist-packages (from requests<3.0,>=2.6.0->prawcore<3,>=2.1->praw) (3.3.2)\n",
            "Requirement already satisfied: idna<4,>=2.5 in /usr/local/lib/python3.10/dist-packages (from requests<3.0,>=2.6.0->prawcore<3,>=2.1->praw) (3.7)\n",
            "Requirement already satisfied: urllib3<3,>=1.21.1 in /usr/local/lib/python3.10/dist-packages (from requests<3.0,>=2.6.0->prawcore<3,>=2.1->praw) (2.0.7)\n",
            "Requirement already satisfied: certifi>=2017.4.17 in /usr/local/lib/python3.10/dist-packages (from requests<3.0,>=2.6.0->prawcore<3,>=2.1->praw) (2024.2.2)\n",
            "Installing collected packages: update-checker, prawcore, praw\n",
            "Successfully installed praw-7.7.1 prawcore-2.4.0 update-checker-0.18.0\n"
          ]
        }
      ],
      "source": [
        "!pip install praw"
      ]
    },
    {
      "cell_type": "code",
      "source": [
        "import praw\n",
        "reddit = praw.Reddit(client_id='_59QL953o_8uoVjRd_gb8A', client_secret='31MwY5SMhykt-6ekyDnIxylyVXzQtA', user_agent='nlp')"
      ],
      "metadata": {
        "id": "ZHFGX1raPHux"
      },
      "execution_count": null,
      "outputs": []
    },
    {
      "cell_type": "code",
      "source": [
        "# get 10 hot posts from the NLP subreddit\n",
        "hot_posts = reddit.subreddit('NLP').hot(limit=10)\n",
        "for post in hot_posts:\n",
        "    print(post.title)"
      ],
      "metadata": {
        "colab": {
          "base_uri": "https://localhost:8080/"
        },
        "id": "B1BLQ8WMPegr",
        "outputId": "b303f05b-c8f9-4e6e-d246-ec7f23697ad4"
      },
      "execution_count": null,
      "outputs": [
        {
          "output_type": "stream",
          "name": "stderr",
          "text": [
            "WARNING:praw:It appears that you are using PRAW in an asynchronous environment.\n",
            "It is strongly recommended to use Async PRAW: https://asyncpraw.readthedocs.io.\n",
            "See https://praw.readthedocs.io/en/latest/getting_started/multiple_instances.html#discord-bots-and-asynchronous-environments for more info.\n",
            "\n"
          ]
        },
        {
          "output_type": "stream",
          "name": "stdout",
          "text": [
            "This subreddit is about the PSYCHOLOGICAL TECHNIQUES created by Richard Bandler and John Grinder.\n",
            "Self-Promotion Thread 2024\n",
            "can you slide your chair closer to me ..\n",
            "Drug induced abuse victim cannot make sense of what happened, hypnosis involved (Help needed) \n",
            "Modeling: Is feelings one of most essential things to modelate?\n",
            "Is this ok?\n",
            "Ross Jeffries: The Andrew Tate Of The 1990s\n",
            "Resources for phobia treatment\n",
            "Wet Dreams \n",
            "NLP is a pyramidal scheme?\n"
          ]
        }
      ]
    },
    {
      "cell_type": "code",
      "source": [
        "# get hottest posts from all subreddits\n",
        "hot_posts = reddit.subreddit('all').hot(limit=10)\n",
        "for post in hot_posts:\n",
        "    print(post.title)"
      ],
      "metadata": {
        "colab": {
          "base_uri": "https://localhost:8080/"
        },
        "id": "nXeSnsOzPmFl",
        "outputId": "e375fde9-5f93-4fec-d1ca-5da1671aef5f"
      },
      "execution_count": null,
      "outputs": [
        {
          "output_type": "stream",
          "name": "stderr",
          "text": [
            "WARNING:praw:It appears that you are using PRAW in an asynchronous environment.\n",
            "It is strongly recommended to use Async PRAW: https://asyncpraw.readthedocs.io.\n",
            "See https://praw.readthedocs.io/en/latest/getting_started/multiple_instances.html#discord-bots-and-asynchronous-environments for more info.\n",
            "\n"
          ]
        },
        {
          "output_type": "stream",
          "name": "stdout",
          "text": [
            "Birthday cake\n",
            "This 21 year old Mercedes e200 Kompressor-Elegance\n",
            "Hilarious yet firm yard sign\n",
            "12\n",
            "Supes\n",
            "Bernie Sanders to Netanyahu: 'It Is Not Antisemitic to Hold You Accountable'\n",
            "Classy lady picking up Tulsa city councilor from jail\n",
            "me_irl\n",
            "If Zuck can do it, what’s your excuse?\n",
            "TIL, in his suicide note, mass shooter Charles Whitman requested his body be autopsied because he felt something was wrong with him. The autopsy discovered that Whitman had a pecan-sized tumor pressing against his amygdala, a brain structure that regulates fear and aggression. \n"
          ]
        }
      ]
    },
    {
      "cell_type": "code",
      "source": [
        "import pandas as pd\n",
        "posts = []\n",
        "nlp_subreddit = reddit.subreddit('Sports')\n",
        "for post in nlp_subreddit.hot(limit=10):\n",
        "    posts.append([post.title, post.score, post.id, post.subreddit, post.url, post.num_comments, post.selftext, post.created])\n",
        "posts = pd.DataFrame(posts,columns=['title', 'score', 'id', 'subreddit', 'url', 'num_comments', 'body', 'created'])\n",
        "print(posts)"
      ],
      "metadata": {
        "colab": {
          "base_uri": "https://localhost:8080/"
        },
        "id": "dP9vFwP6Pmtv",
        "outputId": "cb06a7c6-5ac5-4c5d-8916-583fb954183d"
      },
      "execution_count": null,
      "outputs": [
        {
          "output_type": "stream",
          "name": "stderr",
          "text": [
            "WARNING:praw:It appears that you are using PRAW in an asynchronous environment.\n",
            "It is strongly recommended to use Async PRAW: https://asyncpraw.readthedocs.io.\n",
            "See https://praw.readthedocs.io/en/latest/getting_started/multiple_instances.html#discord-bots-and-asynchronous-environments for more info.\n",
            "\n"
          ]
        },
        {
          "output_type": "stream",
          "name": "stdout",
          "text": [
            "                                               title  score       id  \\\n",
            "0                              Welcome to /r/sports!      0  1bfpxfw   \n",
            "1  Hey, Reddit: We're 100 Days Out to the Paris O...     12  1c5xguh   \n",
            "2  Miami Grand Prix shuts down effort to hold Tru...   1830  1ce7ep3   \n",
            "3  Former New York Giants tackle Korey Cunningham...   1450  1cdv5w0   \n",
            "4  Falcons GM explains shocking selection of Mich...   3108  1cdlt8d   \n",
            "5        NFL to allow Guardian Caps in games in 2024    657  1cdxhrj   \n",
            "6  Former Yankee Fritz Peterson, who famously tra...     18  1cefaac   \n",
            "7  Ohtani HRs in 1st at-bat after boos from Blue ...     14  1ceebg2   \n",
            "8   Nuggets breeze past Lakers, take 3-0 series lead   1056  1cdl0wp   \n",
            "9  MLB Dodgers' Yoshinobu Yamamoto Makes Miraculo...    262  1cdv33c   \n",
            "\n",
            "  subreddit                                                url  num_comments  \\\n",
            "0    sports  https://www.reddit.com/r/sports/comments/1bfpx...            11   \n",
            "1    sports  /r/olympics/comments/1c5fcjb/hey_reddit_were_1...             1   \n",
            "2    sports  https://www.washingtonpost.com/sports/2024/04/...           162   \n",
            "3    sports  https://www.foxnews.com/sports/former-new-york...           214   \n",
            "4    sports  https://www.cbssports.com/nfl/news/falcons-gm-...           930   \n",
            "5    sports          https://www.thescore.com/nfl/news/2900119           235   \n",
            "6    sports  https://www.foxnews.com/sports/former-yankee-f...             5   \n",
            "7    sports          https://www.thescore.com/mlb/news/2901807             6   \n",
            "8    sports          https://www.thescore.com/nba/news/2901294           142   \n",
            "9    sports  https://www.si.com/mlb/2024/04/25/dodgers-yosh...            71   \n",
            "\n",
            "                                                body       created  \n",
            "0  [View Post](https://www.reddit.com/r/sports/po...  1.710540e+09  \n",
            "1                                                     1.713318e+09  \n",
            "2                                           \\n\\n\\n\\n  1.714198e+09  \n",
            "3                                                     1.714162e+09  \n",
            "4                                                     1.714139e+09  \n",
            "5                                                     1.714168e+09  \n",
            "6                                                     1.714227e+09  \n",
            "7                                                     1.714224e+09  \n",
            "8                                                     1.714137e+09  \n",
            "9                                                     1.714162e+09  \n"
          ]
        }
      ]
    },
    {
      "cell_type": "code",
      "source": [
        "submission = reddit.submission(id=\"1aubsqj\")\n",
        "for top_level_comment in submission.comments:\n",
        "    print(top_level_comment.body)"
      ],
      "metadata": {
        "colab": {
          "base_uri": "https://localhost:8080/"
        },
        "id": "0SmQT067QFA6",
        "outputId": "cf7168cd-5fbd-4722-f227-236a8163d862"
      },
      "execution_count": null,
      "outputs": [
        {
          "output_type": "stream",
          "name": "stderr",
          "text": [
            "WARNING:praw:It appears that you are using PRAW in an asynchronous environment.\n",
            "It is strongly recommended to use Async PRAW: https://asyncpraw.readthedocs.io.\n",
            "See https://praw.readthedocs.io/en/latest/getting_started/multiple_instances.html#discord-bots-and-asynchronous-environments for more info.\n",
            "\n"
          ]
        },
        {
          "output_type": "stream",
          "name": "stdout",
          "text": [
            "It's actually pretty difficult NOT to be vague, since probably 99% of time people use vague language (shortened versions - deletions, generalizations, distortions), otherwise it would take hours just to communicate something simple. Most of the time, people will infer the missing details of what you are talking about based on the context.\n",
            "\n",
            "Let's take what I've wrote for example:\n",
            "\n",
            "It's actually pretty difficult - how difficult exactly? Not specified =vague\n",
            "\n",
            "difficult - from what angle, what makes it difficult? Not specified =vague\n",
            "\n",
            "people - which people more specifically?\n",
            "\n",
            "vague - what does vague mean, more specifically?\n",
            "\n",
            "... and I could go on like this for hours. We don't notice vague language / deletions because our brains fill in the missing details unconsciously.\n",
            "\n",
            "Since we are already vague in language most of the time, my question would be \"what do you want to achieve by using vague language\", and the answer might help you filter the existing resources.\n",
            "Learning how to chunk up can help w this. Being fluid with the hierarchy of ideas can be extremely useful, being able to chunk down to specific language and chunk up to vague abstract language. It's something I'm always working on as well. When thinking of vague language, I think about it in terms of agreement. When you chunk down to specific language you give people more reasons to disagree with you, and when you leave a lot of deleted distorted and generalized info in the statement, it becomes vaguer and you gain more agreement, because there's less to disagree with.   \n",
            "\n",
            "\n",
            "To chunk up just ask, what is this an example of?  \n",
            "\n",
            "\n",
            "Australian Shepard -> Dog -> Animal -> Species -> Being   -> etc.\n",
            "There are many new things you can learn... And as you find yourself searching for these things.... You become lost.....lost in a deep sea\n",
            ".... Becoming deeper and deeper.\n",
            "\n",
            "Vague is generalisation, vague is metaphorical, vague is Repetitive and once you become vague then you can lead 😂\n",
            "\n",
            "Whats the objective of what you're trying to do? Is it therapeutic work? Hypnosis? Selling shit? Pursuading people?\n",
            "In simple terms, how true can the statement be = vague. How false can the statement be = specific.\n",
            "\n",
            "Vague example - Throughout the day you are most likely thinking things.\n",
            "\n",
            "This statement is more than likely 100% true.\n",
            "\n",
            "\n",
            "\n",
            "Specific Example - At 1:30 PM I know you were thinking about that hotdog you were going to eat.\n",
            "\n",
            "This statements is absolutely false on the account that I cannot know what you are thinking at the specific time and your intention - not vague and can be false on multiple levels.\n",
            "\n",
            "  \n",
            "Forget the NLP jargon and ask yourself, \"Could this be true?\" The more accuracy you need, the less true it becomes for others.\n",
            "\n",
            "\n",
            "\n",
            "Other examples:\n",
            "\n",
            "There are times when you feel great and then there are times when you feel not-so-great.\n",
            "\n",
            "Sometimes there are thoughts you have that maybe your'd rather not have and might wonder if others have the same thoughts as you.\n",
            "\n",
            "At some point or another you might wonder where you're going next.\n",
            "You don't want vague language. You want the language of influence which is seemingly detailed. All is explained in the online ABC-NLP Practitioner here => [https://www.influence.amsterdam/2021/07/11/free-online-abc-nlp-practitioner/](https://www.influence.amsterdam/2021/07/11/free-online-abc-nlp-practitioner/)\n",
            "\n",
            "Starting with lesson #7.\n",
            "I have a list of my favorite NLP video links\n",
            "Interesting? One of my goals that I am hoping to find assistance with here is to be more precise/deliberate with my communication.\n",
            "Sleight of mouth by Robert Dilts is a good read\n"
          ]
        }
      ]
    },
    {
      "cell_type": "code",
      "source": [
        "subreddit = reddit.subreddit(\"Sports\")\n",
        "for post in subreddit.hot(limit=5):\n",
        "    print(post.title)\n",
        "    print()"
      ],
      "metadata": {
        "colab": {
          "base_uri": "https://localhost:8080/"
        },
        "id": "8Lozc4lcQXE7",
        "outputId": "068b885a-7a36-414c-bb79-c432763b33a7"
      },
      "execution_count": null,
      "outputs": [
        {
          "output_type": "stream",
          "name": "stderr",
          "text": [
            "WARNING:praw:It appears that you are using PRAW in an asynchronous environment.\n",
            "It is strongly recommended to use Async PRAW: https://asyncpraw.readthedocs.io.\n",
            "See https://praw.readthedocs.io/en/latest/getting_started/multiple_instances.html#discord-bots-and-asynchronous-environments for more info.\n",
            "\n"
          ]
        },
        {
          "output_type": "stream",
          "name": "stdout",
          "text": [
            "Welcome to /r/sports!\n",
            "\n",
            "Hey, Reddit: We're 100 Days Out to the Paris Olympics and Paralympics and doing an AMA with Olympians, Paralympians and hopefuls this Wednesday!\n",
            "\n",
            "Miami Grand Prix shuts down effort to hold Trump fundraiser at F1 race\n",
            "\n",
            "Former New York Giants tackle Korey Cunningham dead at 28\n",
            "\n",
            "Falcons GM explains shocking selection of Michael Penix Jr. that left Kirk Cousins 'disappointed'\n",
            "\n"
          ]
        }
      ]
    },
    {
      "cell_type": "code",
      "source": [
        "# Scraping the top posts of the current month\n",
        "posts = subreddit.top(\"week\")\n",
        "posts_dict = {\"Title\": [],\n",
        "\t\t\t\"ID\": []\n",
        "\t\t\t}\n",
        "for post in posts:\n",
        "\tposts_dict[\"Title\"].append(post.title)\n",
        "\tposts_dict[\"ID\"].append(post.id)\n",
        "top_posts = pd.DataFrame(posts_dict)\n",
        "top_posts"
      ],
      "metadata": {
        "colab": {
          "base_uri": "https://localhost:8080/",
          "height": 570
        },
        "id": "E6V79h89RnEX",
        "outputId": "c280fd1f-e369-4c05-cbc0-a342480e3218"
      },
      "execution_count": null,
      "outputs": [
        {
          "output_type": "stream",
          "name": "stderr",
          "text": [
            "<ipython-input-8-b9c0e7db2232>:2: DeprecationWarning: Positional arguments for 'BaseListingMixin.top' will no longer be supported in PRAW 8.\n",
            "Call this function with 'time_filter' as a keyword argument.\n",
            "  posts = subreddit.top(\"week\")\n",
            "WARNING:praw:It appears that you are using PRAW in an asynchronous environment.\n",
            "It is strongly recommended to use Async PRAW: https://asyncpraw.readthedocs.io.\n",
            "See https://praw.readthedocs.io/en/latest/getting_started/multiple_instances.html#discord-bots-and-asynchronous-environments for more info.\n",
            "\n"
          ]
        },
        {
          "output_type": "execute_result",
          "data": {
            "text/plain": [
              "                                                Title       ID\n",
              "0    Caitlin Clark inking 8-year, $28M deal with Nike  1cbdtx7\n",
              "1   Caitlin Clark Jersey Out-Sells Entire Dallas C...  1c9vg5d\n",
              "2         Reggie Bush to have Heisman Trophy Returned  1cbytvp\n",
              "3   World's First Sports Bar Dedicated To Women's ...  1cbza2p\n",
              "4   Falcons GM explains shocking selection of Mich...  1cdlt8d\n",
              "..                                                ...      ...\n",
              "95  [ESPN College Football] The Moment Reggie Bush...  1cckxaj\n",
              "96  NASCAR driver Erik Jones to miss Dover race be...  1cc0czv\n",
              "97  IPL 2024: Phil Salt with a terrific dive to ru...  1c9lu79\n",
              "98  MLS Lionel Messi and Sergio Busquets Named to ...  1cbwrbg\n",
              "99  Giants put Blake Snell on IL with adductor strain  1cc7oga\n",
              "\n",
              "[100 rows x 2 columns]"
            ],
            "text/html": [
              "\n",
              "  <div id=\"df-c64a3a20-68e0-49bb-8207-8a59bab8eaa9\" class=\"colab-df-container\">\n",
              "    <div>\n",
              "<style scoped>\n",
              "    .dataframe tbody tr th:only-of-type {\n",
              "        vertical-align: middle;\n",
              "    }\n",
              "\n",
              "    .dataframe tbody tr th {\n",
              "        vertical-align: top;\n",
              "    }\n",
              "\n",
              "    .dataframe thead th {\n",
              "        text-align: right;\n",
              "    }\n",
              "</style>\n",
              "<table border=\"1\" class=\"dataframe\">\n",
              "  <thead>\n",
              "    <tr style=\"text-align: right;\">\n",
              "      <th></th>\n",
              "      <th>Title</th>\n",
              "      <th>ID</th>\n",
              "    </tr>\n",
              "  </thead>\n",
              "  <tbody>\n",
              "    <tr>\n",
              "      <th>0</th>\n",
              "      <td>Caitlin Clark inking 8-year, $28M deal with Nike</td>\n",
              "      <td>1cbdtx7</td>\n",
              "    </tr>\n",
              "    <tr>\n",
              "      <th>1</th>\n",
              "      <td>Caitlin Clark Jersey Out-Sells Entire Dallas C...</td>\n",
              "      <td>1c9vg5d</td>\n",
              "    </tr>\n",
              "    <tr>\n",
              "      <th>2</th>\n",
              "      <td>Reggie Bush to have Heisman Trophy Returned</td>\n",
              "      <td>1cbytvp</td>\n",
              "    </tr>\n",
              "    <tr>\n",
              "      <th>3</th>\n",
              "      <td>World's First Sports Bar Dedicated To Women's ...</td>\n",
              "      <td>1cbza2p</td>\n",
              "    </tr>\n",
              "    <tr>\n",
              "      <th>4</th>\n",
              "      <td>Falcons GM explains shocking selection of Mich...</td>\n",
              "      <td>1cdlt8d</td>\n",
              "    </tr>\n",
              "    <tr>\n",
              "      <th>...</th>\n",
              "      <td>...</td>\n",
              "      <td>...</td>\n",
              "    </tr>\n",
              "    <tr>\n",
              "      <th>95</th>\n",
              "      <td>[ESPN College Football] The Moment Reggie Bush...</td>\n",
              "      <td>1cckxaj</td>\n",
              "    </tr>\n",
              "    <tr>\n",
              "      <th>96</th>\n",
              "      <td>NASCAR driver Erik Jones to miss Dover race be...</td>\n",
              "      <td>1cc0czv</td>\n",
              "    </tr>\n",
              "    <tr>\n",
              "      <th>97</th>\n",
              "      <td>IPL 2024: Phil Salt with a terrific dive to ru...</td>\n",
              "      <td>1c9lu79</td>\n",
              "    </tr>\n",
              "    <tr>\n",
              "      <th>98</th>\n",
              "      <td>MLS Lionel Messi and Sergio Busquets Named to ...</td>\n",
              "      <td>1cbwrbg</td>\n",
              "    </tr>\n",
              "    <tr>\n",
              "      <th>99</th>\n",
              "      <td>Giants put Blake Snell on IL with adductor strain</td>\n",
              "      <td>1cc7oga</td>\n",
              "    </tr>\n",
              "  </tbody>\n",
              "</table>\n",
              "<p>100 rows × 2 columns</p>\n",
              "</div>\n",
              "    <div class=\"colab-df-buttons\">\n",
              "\n",
              "  <div class=\"colab-df-container\">\n",
              "    <button class=\"colab-df-convert\" onclick=\"convertToInteractive('df-c64a3a20-68e0-49bb-8207-8a59bab8eaa9')\"\n",
              "            title=\"Convert this dataframe to an interactive table.\"\n",
              "            style=\"display:none;\">\n",
              "\n",
              "  <svg xmlns=\"http://www.w3.org/2000/svg\" height=\"24px\" viewBox=\"0 -960 960 960\">\n",
              "    <path d=\"M120-120v-720h720v720H120Zm60-500h600v-160H180v160Zm220 220h160v-160H400v160Zm0 220h160v-160H400v160ZM180-400h160v-160H180v160Zm440 0h160v-160H620v160ZM180-180h160v-160H180v160Zm440 0h160v-160H620v160Z\"/>\n",
              "  </svg>\n",
              "    </button>\n",
              "\n",
              "  <style>\n",
              "    .colab-df-container {\n",
              "      display:flex;\n",
              "      gap: 12px;\n",
              "    }\n",
              "\n",
              "    .colab-df-convert {\n",
              "      background-color: #E8F0FE;\n",
              "      border: none;\n",
              "      border-radius: 50%;\n",
              "      cursor: pointer;\n",
              "      display: none;\n",
              "      fill: #1967D2;\n",
              "      height: 32px;\n",
              "      padding: 0 0 0 0;\n",
              "      width: 32px;\n",
              "    }\n",
              "\n",
              "    .colab-df-convert:hover {\n",
              "      background-color: #E2EBFA;\n",
              "      box-shadow: 0px 1px 2px rgba(60, 64, 67, 0.3), 0px 1px 3px 1px rgba(60, 64, 67, 0.15);\n",
              "      fill: #174EA6;\n",
              "    }\n",
              "\n",
              "    .colab-df-buttons div {\n",
              "      margin-bottom: 4px;\n",
              "    }\n",
              "\n",
              "    [theme=dark] .colab-df-convert {\n",
              "      background-color: #3B4455;\n",
              "      fill: #D2E3FC;\n",
              "    }\n",
              "\n",
              "    [theme=dark] .colab-df-convert:hover {\n",
              "      background-color: #434B5C;\n",
              "      box-shadow: 0px 1px 3px 1px rgba(0, 0, 0, 0.15);\n",
              "      filter: drop-shadow(0px 1px 2px rgba(0, 0, 0, 0.3));\n",
              "      fill: #FFFFFF;\n",
              "    }\n",
              "  </style>\n",
              "\n",
              "    <script>\n",
              "      const buttonEl =\n",
              "        document.querySelector('#df-c64a3a20-68e0-49bb-8207-8a59bab8eaa9 button.colab-df-convert');\n",
              "      buttonEl.style.display =\n",
              "        google.colab.kernel.accessAllowed ? 'block' : 'none';\n",
              "\n",
              "      async function convertToInteractive(key) {\n",
              "        const element = document.querySelector('#df-c64a3a20-68e0-49bb-8207-8a59bab8eaa9');\n",
              "        const dataTable =\n",
              "          await google.colab.kernel.invokeFunction('convertToInteractive',\n",
              "                                                    [key], {});\n",
              "        if (!dataTable) return;\n",
              "\n",
              "        const docLinkHtml = 'Like what you see? Visit the ' +\n",
              "          '<a target=\"_blank\" href=https://colab.research.google.com/notebooks/data_table.ipynb>data table notebook</a>'\n",
              "          + ' to learn more about interactive tables.';\n",
              "        element.innerHTML = '';\n",
              "        dataTable['output_type'] = 'display_data';\n",
              "        await google.colab.output.renderOutput(dataTable, element);\n",
              "        const docLink = document.createElement('div');\n",
              "        docLink.innerHTML = docLinkHtml;\n",
              "        element.appendChild(docLink);\n",
              "      }\n",
              "    </script>\n",
              "  </div>\n",
              "\n",
              "\n",
              "<div id=\"df-3aa9a1f7-357a-4e12-be63-525e02596bfd\">\n",
              "  <button class=\"colab-df-quickchart\" onclick=\"quickchart('df-3aa9a1f7-357a-4e12-be63-525e02596bfd')\"\n",
              "            title=\"Suggest charts\"\n",
              "            style=\"display:none;\">\n",
              "\n",
              "<svg xmlns=\"http://www.w3.org/2000/svg\" height=\"24px\"viewBox=\"0 0 24 24\"\n",
              "     width=\"24px\">\n",
              "    <g>\n",
              "        <path d=\"M19 3H5c-1.1 0-2 .9-2 2v14c0 1.1.9 2 2 2h14c1.1 0 2-.9 2-2V5c0-1.1-.9-2-2-2zM9 17H7v-7h2v7zm4 0h-2V7h2v10zm4 0h-2v-4h2v4z\"/>\n",
              "    </g>\n",
              "</svg>\n",
              "  </button>\n",
              "\n",
              "<style>\n",
              "  .colab-df-quickchart {\n",
              "      --bg-color: #E8F0FE;\n",
              "      --fill-color: #1967D2;\n",
              "      --hover-bg-color: #E2EBFA;\n",
              "      --hover-fill-color: #174EA6;\n",
              "      --disabled-fill-color: #AAA;\n",
              "      --disabled-bg-color: #DDD;\n",
              "  }\n",
              "\n",
              "  [theme=dark] .colab-df-quickchart {\n",
              "      --bg-color: #3B4455;\n",
              "      --fill-color: #D2E3FC;\n",
              "      --hover-bg-color: #434B5C;\n",
              "      --hover-fill-color: #FFFFFF;\n",
              "      --disabled-bg-color: #3B4455;\n",
              "      --disabled-fill-color: #666;\n",
              "  }\n",
              "\n",
              "  .colab-df-quickchart {\n",
              "    background-color: var(--bg-color);\n",
              "    border: none;\n",
              "    border-radius: 50%;\n",
              "    cursor: pointer;\n",
              "    display: none;\n",
              "    fill: var(--fill-color);\n",
              "    height: 32px;\n",
              "    padding: 0;\n",
              "    width: 32px;\n",
              "  }\n",
              "\n",
              "  .colab-df-quickchart:hover {\n",
              "    background-color: var(--hover-bg-color);\n",
              "    box-shadow: 0 1px 2px rgba(60, 64, 67, 0.3), 0 1px 3px 1px rgba(60, 64, 67, 0.15);\n",
              "    fill: var(--button-hover-fill-color);\n",
              "  }\n",
              "\n",
              "  .colab-df-quickchart-complete:disabled,\n",
              "  .colab-df-quickchart-complete:disabled:hover {\n",
              "    background-color: var(--disabled-bg-color);\n",
              "    fill: var(--disabled-fill-color);\n",
              "    box-shadow: none;\n",
              "  }\n",
              "\n",
              "  .colab-df-spinner {\n",
              "    border: 2px solid var(--fill-color);\n",
              "    border-color: transparent;\n",
              "    border-bottom-color: var(--fill-color);\n",
              "    animation:\n",
              "      spin 1s steps(1) infinite;\n",
              "  }\n",
              "\n",
              "  @keyframes spin {\n",
              "    0% {\n",
              "      border-color: transparent;\n",
              "      border-bottom-color: var(--fill-color);\n",
              "      border-left-color: var(--fill-color);\n",
              "    }\n",
              "    20% {\n",
              "      border-color: transparent;\n",
              "      border-left-color: var(--fill-color);\n",
              "      border-top-color: var(--fill-color);\n",
              "    }\n",
              "    30% {\n",
              "      border-color: transparent;\n",
              "      border-left-color: var(--fill-color);\n",
              "      border-top-color: var(--fill-color);\n",
              "      border-right-color: var(--fill-color);\n",
              "    }\n",
              "    40% {\n",
              "      border-color: transparent;\n",
              "      border-right-color: var(--fill-color);\n",
              "      border-top-color: var(--fill-color);\n",
              "    }\n",
              "    60% {\n",
              "      border-color: transparent;\n",
              "      border-right-color: var(--fill-color);\n",
              "    }\n",
              "    80% {\n",
              "      border-color: transparent;\n",
              "      border-right-color: var(--fill-color);\n",
              "      border-bottom-color: var(--fill-color);\n",
              "    }\n",
              "    90% {\n",
              "      border-color: transparent;\n",
              "      border-bottom-color: var(--fill-color);\n",
              "    }\n",
              "  }\n",
              "</style>\n",
              "\n",
              "  <script>\n",
              "    async function quickchart(key) {\n",
              "      const quickchartButtonEl =\n",
              "        document.querySelector('#' + key + ' button');\n",
              "      quickchartButtonEl.disabled = true;  // To prevent multiple clicks.\n",
              "      quickchartButtonEl.classList.add('colab-df-spinner');\n",
              "      try {\n",
              "        const charts = await google.colab.kernel.invokeFunction(\n",
              "            'suggestCharts', [key], {});\n",
              "      } catch (error) {\n",
              "        console.error('Error during call to suggestCharts:', error);\n",
              "      }\n",
              "      quickchartButtonEl.classList.remove('colab-df-spinner');\n",
              "      quickchartButtonEl.classList.add('colab-df-quickchart-complete');\n",
              "    }\n",
              "    (() => {\n",
              "      let quickchartButtonEl =\n",
              "        document.querySelector('#df-3aa9a1f7-357a-4e12-be63-525e02596bfd button');\n",
              "      quickchartButtonEl.style.display =\n",
              "        google.colab.kernel.accessAllowed ? 'block' : 'none';\n",
              "    })();\n",
              "  </script>\n",
              "</div>\n",
              "\n",
              "  <div id=\"id_2494bcab-c2ae-476f-bb62-c1dc33810dbb\">\n",
              "    <style>\n",
              "      .colab-df-generate {\n",
              "        background-color: #E8F0FE;\n",
              "        border: none;\n",
              "        border-radius: 50%;\n",
              "        cursor: pointer;\n",
              "        display: none;\n",
              "        fill: #1967D2;\n",
              "        height: 32px;\n",
              "        padding: 0 0 0 0;\n",
              "        width: 32px;\n",
              "      }\n",
              "\n",
              "      .colab-df-generate:hover {\n",
              "        background-color: #E2EBFA;\n",
              "        box-shadow: 0px 1px 2px rgba(60, 64, 67, 0.3), 0px 1px 3px 1px rgba(60, 64, 67, 0.15);\n",
              "        fill: #174EA6;\n",
              "      }\n",
              "\n",
              "      [theme=dark] .colab-df-generate {\n",
              "        background-color: #3B4455;\n",
              "        fill: #D2E3FC;\n",
              "      }\n",
              "\n",
              "      [theme=dark] .colab-df-generate:hover {\n",
              "        background-color: #434B5C;\n",
              "        box-shadow: 0px 1px 3px 1px rgba(0, 0, 0, 0.15);\n",
              "        filter: drop-shadow(0px 1px 2px rgba(0, 0, 0, 0.3));\n",
              "        fill: #FFFFFF;\n",
              "      }\n",
              "    </style>\n",
              "    <button class=\"colab-df-generate\" onclick=\"generateWithVariable('top_posts')\"\n",
              "            title=\"Generate code using this dataframe.\"\n",
              "            style=\"display:none;\">\n",
              "\n",
              "  <svg xmlns=\"http://www.w3.org/2000/svg\" height=\"24px\"viewBox=\"0 0 24 24\"\n",
              "       width=\"24px\">\n",
              "    <path d=\"M7,19H8.4L18.45,9,17,7.55,7,17.6ZM5,21V16.75L18.45,3.32a2,2,0,0,1,2.83,0l1.4,1.43a1.91,1.91,0,0,1,.58,1.4,1.91,1.91,0,0,1-.58,1.4L9.25,21ZM18.45,9,17,7.55Zm-12,3A5.31,5.31,0,0,0,4.9,8.1,5.31,5.31,0,0,0,1,6.5,5.31,5.31,0,0,0,4.9,4.9,5.31,5.31,0,0,0,6.5,1,5.31,5.31,0,0,0,8.1,4.9,5.31,5.31,0,0,0,12,6.5,5.46,5.46,0,0,0,6.5,12Z\"/>\n",
              "  </svg>\n",
              "    </button>\n",
              "    <script>\n",
              "      (() => {\n",
              "      const buttonEl =\n",
              "        document.querySelector('#id_2494bcab-c2ae-476f-bb62-c1dc33810dbb button.colab-df-generate');\n",
              "      buttonEl.style.display =\n",
              "        google.colab.kernel.accessAllowed ? 'block' : 'none';\n",
              "\n",
              "      buttonEl.onclick = () => {\n",
              "        google.colab.notebook.generateWithVariable('top_posts');\n",
              "      }\n",
              "      })();\n",
              "    </script>\n",
              "  </div>\n",
              "\n",
              "    </div>\n",
              "  </div>\n"
            ],
            "application/vnd.google.colaboratory.intrinsic+json": {
              "type": "dataframe",
              "variable_name": "top_posts",
              "summary": "{\n  \"name\": \"top_posts\",\n  \"rows\": 100,\n  \"fields\": [\n    {\n      \"column\": \"Title\",\n      \"properties\": {\n        \"dtype\": \"string\",\n        \"num_unique_values\": 100,\n        \"samples\": [\n          \"USA Track expands maternity policy, giving athletes more time\",\n          \"76ers' Maxey wins Most Improved Player\",\n          \"Quarterbacks Williams, Daniels, Maye, Penix Jr., McCarthy and Nix selected in top 12 of NFL draft\"\n        ],\n        \"semantic_type\": \"\",\n        \"description\": \"\"\n      }\n    },\n    {\n      \"column\": \"ID\",\n      \"properties\": {\n        \"dtype\": \"string\",\n        \"num_unique_values\": 100,\n        \"samples\": [\n          \"1ccw6rc\",\n          \"1cbj0op\",\n          \"1cd9tjs\"\n        ],\n        \"semantic_type\": \"\",\n        \"description\": \"\"\n      }\n    }\n  ]\n}"
            }
          },
          "metadata": {},
          "execution_count": 8
        }
      ]
    },
    {
      "cell_type": "code",
      "source": [
        "import pandas as pd\n",
        "top_posts.to_csv(\"Top Posts.csv\", index=True)"
      ],
      "metadata": {
        "id": "CcqSPy7pSPiV"
      },
      "execution_count": null,
      "outputs": []
    },
    {
      "cell_type": "code",
      "source": [],
      "metadata": {
        "id": "w9xOy-BlFB_Y"
      },
      "execution_count": null,
      "outputs": []
    },
    {
      "cell_type": "code",
      "source": [
        "#Scrape and process comments\n",
        "comments_emotions = process_comments(subreddit, limit=10)"
      ],
      "metadata": {
        "id": "nA8elaf0pF01"
      },
      "execution_count": null,
      "outputs": []
    }
  ]
}