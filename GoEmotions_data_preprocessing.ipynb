{
 "cells": [
  {
   "cell_type": "markdown",
   "id": "fe631757-18a5-4f29-9fc6-15da7de4f51b",
   "metadata": {},
   "source": [
    "Data Pre-processing - From Hugging Face GoEmotions Dataset "
   ]
  },
  {
   "cell_type": "code",
   "execution_count": 3,
   "id": "6e7c758d-3c6c-4047-8f2d-767c12e156f7",
   "metadata": {},
   "outputs": [
    {
     "name": "stdout",
     "output_type": "stream",
     "text": [
      "Collecting datasets\n",
      "  Downloading datasets-2.19.0-py3-none-any.whl.metadata (19 kB)\n",
      "Requirement already satisfied: filelock in c:\\users\\delph\\anaconda3\\envs\\pytorchenv\\lib\\site-packages (from datasets) (3.13.1)\n",
      "Requirement already satisfied: numpy>=1.17 in c:\\users\\delph\\anaconda3\\envs\\pytorchenv\\lib\\site-packages (from datasets) (1.26.4)\n",
      "Collecting pyarrow>=12.0.0 (from datasets)\n",
      "  Downloading pyarrow-16.0.0-cp311-cp311-win_amd64.whl.metadata (3.1 kB)\n",
      "Collecting pyarrow-hotfix (from datasets)\n",
      "  Downloading pyarrow_hotfix-0.6-py3-none-any.whl.metadata (3.6 kB)\n",
      "Collecting dill<0.3.9,>=0.3.0 (from datasets)\n",
      "  Downloading dill-0.3.8-py3-none-any.whl.metadata (10 kB)\n",
      "Requirement already satisfied: pandas in c:\\users\\delph\\anaconda3\\envs\\pytorchenv\\lib\\site-packages (from datasets) (2.2.1)\n",
      "Requirement already satisfied: requests>=2.19.0 in c:\\users\\delph\\anaconda3\\envs\\pytorchenv\\lib\\site-packages (from datasets) (2.31.0)\n",
      "Requirement already satisfied: tqdm>=4.62.1 in c:\\users\\delph\\anaconda3\\envs\\pytorchenv\\lib\\site-packages (from datasets) (4.66.2)\n",
      "Collecting xxhash (from datasets)\n",
      "  Downloading xxhash-3.4.1-cp311-cp311-win_amd64.whl.metadata (12 kB)\n",
      "Collecting multiprocess (from datasets)\n",
      "  Downloading multiprocess-0.70.16-py311-none-any.whl.metadata (7.2 kB)\n",
      "Requirement already satisfied: fsspec<=2024.3.1,>=2023.1.0 in c:\\users\\delph\\anaconda3\\envs\\pytorchenv\\lib\\site-packages (from fsspec[http]<=2024.3.1,>=2023.1.0->datasets) (2023.10.0)\n",
      "Collecting aiohttp (from datasets)\n",
      "  Downloading aiohttp-3.9.5-cp311-cp311-win_amd64.whl.metadata (7.7 kB)\n",
      "Requirement already satisfied: huggingface-hub>=0.21.2 in c:\\users\\delph\\anaconda3\\envs\\pytorchenv\\lib\\site-packages (from datasets) (0.21.4)\n",
      "Requirement already satisfied: packaging in c:\\users\\delph\\anaconda3\\envs\\pytorchenv\\lib\\site-packages (from datasets) (23.1)\n",
      "Requirement already satisfied: pyyaml>=5.1 in c:\\users\\delph\\anaconda3\\envs\\pytorchenv\\lib\\site-packages (from datasets) (6.0.1)\n",
      "Collecting aiosignal>=1.1.2 (from aiohttp->datasets)\n",
      "  Downloading aiosignal-1.3.1-py3-none-any.whl.metadata (4.0 kB)\n",
      "Requirement already satisfied: attrs>=17.3.0 in c:\\users\\delph\\anaconda3\\envs\\pytorchenv\\lib\\site-packages (from aiohttp->datasets) (23.1.0)\n",
      "Collecting frozenlist>=1.1.1 (from aiohttp->datasets)\n",
      "  Downloading frozenlist-1.4.1-cp311-cp311-win_amd64.whl.metadata (12 kB)\n",
      "Collecting multidict<7.0,>=4.5 (from aiohttp->datasets)\n",
      "  Downloading multidict-6.0.5-cp311-cp311-win_amd64.whl.metadata (4.3 kB)\n",
      "Collecting yarl<2.0,>=1.0 (from aiohttp->datasets)\n",
      "  Downloading yarl-1.9.4-cp311-cp311-win_amd64.whl.metadata (32 kB)\n",
      "Requirement already satisfied: typing-extensions>=3.7.4.3 in c:\\users\\delph\\anaconda3\\envs\\pytorchenv\\lib\\site-packages (from huggingface-hub>=0.21.2->datasets) (4.9.0)\n",
      "Requirement already satisfied: charset-normalizer<4,>=2 in c:\\users\\delph\\anaconda3\\envs\\pytorchenv\\lib\\site-packages (from requests>=2.19.0->datasets) (2.0.4)\n",
      "Requirement already satisfied: idna<4,>=2.5 in c:\\users\\delph\\anaconda3\\envs\\pytorchenv\\lib\\site-packages (from requests>=2.19.0->datasets) (3.4)\n",
      "Requirement already satisfied: urllib3<3,>=1.21.1 in c:\\users\\delph\\anaconda3\\envs\\pytorchenv\\lib\\site-packages (from requests>=2.19.0->datasets) (2.1.0)\n",
      "Requirement already satisfied: certifi>=2017.4.17 in c:\\users\\delph\\anaconda3\\envs\\pytorchenv\\lib\\site-packages (from requests>=2.19.0->datasets) (2024.2.2)\n",
      "Requirement already satisfied: colorama in c:\\users\\delph\\anaconda3\\envs\\pytorchenv\\lib\\site-packages (from tqdm>=4.62.1->datasets) (0.4.6)\n",
      "Requirement already satisfied: python-dateutil>=2.8.2 in c:\\users\\delph\\anaconda3\\envs\\pytorchenv\\lib\\site-packages (from pandas->datasets) (2.8.2)\n",
      "Requirement already satisfied: pytz>=2020.1 in c:\\users\\delph\\anaconda3\\envs\\pytorchenv\\lib\\site-packages (from pandas->datasets) (2023.3.post1)\n",
      "Requirement already satisfied: tzdata>=2022.7 in c:\\users\\delph\\anaconda3\\envs\\pytorchenv\\lib\\site-packages (from pandas->datasets) (2023.3)\n",
      "Requirement already satisfied: six>=1.5 in c:\\users\\delph\\anaconda3\\envs\\pytorchenv\\lib\\site-packages (from python-dateutil>=2.8.2->pandas->datasets) (1.16.0)\n",
      "Downloading datasets-2.19.0-py3-none-any.whl (542 kB)\n",
      "   ---------------------------------------- 0.0/542.0 kB ? eta -:--:--\n",
      "   ----------------------- ---------------- 317.4/542.0 kB 6.7 MB/s eta 0:00:01\n",
      "   ---------------------------------------- 542.0/542.0 kB 6.8 MB/s eta 0:00:00\n",
      "Downloading dill-0.3.8-py3-none-any.whl (116 kB)\n",
      "   ---------------------------------------- 0.0/116.3 kB ? eta -:--:--\n",
      "   ---------------------------------------- 116.3/116.3 kB 6.6 MB/s eta 0:00:00\n",
      "Downloading aiohttp-3.9.5-cp311-cp311-win_amd64.whl (370 kB)\n",
      "   ---------------------------------------- 0.0/370.8 kB ? eta -:--:--\n",
      "   --------------------------------------- 370.8/370.8 kB 24.0 MB/s eta 0:00:00\n",
      "Downloading pyarrow-16.0.0-cp311-cp311-win_amd64.whl (25.9 MB)\n",
      "   ---------------------------------------- 0.0/25.9 MB ? eta -:--:--\n",
      "   -- ------------------------------------- 1.7/25.9 MB 36.4 MB/s eta 0:00:01\n",
      "   ---- ----------------------------------- 2.9/25.9 MB 31.6 MB/s eta 0:00:01\n",
      "   ------- -------------------------------- 4.9/25.9 MB 34.7 MB/s eta 0:00:01\n",
      "   --------- ------------------------------ 6.3/25.9 MB 33.8 MB/s eta 0:00:01\n",
      "   ------------- -------------------------- 8.6/25.9 MB 36.6 MB/s eta 0:00:01\n",
      "   -------------- ------------------------- 9.3/25.9 MB 31.4 MB/s eta 0:00:01\n",
      "   ----------------- ---------------------- 11.5/25.9 MB 34.4 MB/s eta 0:00:01\n",
      "   -------------------- ------------------- 13.5/25.9 MB 36.3 MB/s eta 0:00:01\n",
      "   ------------------------ --------------- 15.6/25.9 MB 38.5 MB/s eta 0:00:01\n",
      "   ------------------------- -------------- 16.5/25.9 MB 36.4 MB/s eta 0:00:01\n",
      "   --------------------------- ------------ 17.8/25.9 MB 36.4 MB/s eta 0:00:01\n",
      "   ------------------------------ --------- 19.8/25.9 MB 40.9 MB/s eta 0:00:01\n",
      "   --------------------------------- ------ 22.0/25.9 MB 38.5 MB/s eta 0:00:01\n",
      "   ------------------------------------- -- 24.4/25.9 MB 38.5 MB/s eta 0:00:01\n",
      "   ---------------------------------------  25.9/25.9 MB 38.5 MB/s eta 0:00:01\n",
      "   ---------------------------------------  25.9/25.9 MB 38.5 MB/s eta 0:00:01\n",
      "   ---------------------------------------- 25.9/25.9 MB 31.2 MB/s eta 0:00:00\n",
      "Downloading multiprocess-0.70.16-py311-none-any.whl (143 kB)\n",
      "   ---------------------------------------- 0.0/143.5 kB ? eta -:--:--\n",
      "   ---------------------------------------- 143.5/143.5 kB ? eta 0:00:00\n",
      "Downloading pyarrow_hotfix-0.6-py3-none-any.whl (7.9 kB)\n",
      "Downloading xxhash-3.4.1-cp311-cp311-win_amd64.whl (29 kB)\n",
      "Downloading aiosignal-1.3.1-py3-none-any.whl (7.6 kB)\n",
      "Downloading frozenlist-1.4.1-cp311-cp311-win_amd64.whl (50 kB)\n",
      "   ---------------------------------------- 0.0/50.5 kB ? eta -:--:--\n",
      "   ---------------------------------------- 50.5/50.5 kB 2.5 MB/s eta 0:00:00\n",
      "Downloading multidict-6.0.5-cp311-cp311-win_amd64.whl (28 kB)\n",
      "Downloading yarl-1.9.4-cp311-cp311-win_amd64.whl (76 kB)\n",
      "   ---------------------------------------- 0.0/76.7 kB ? eta -:--:--\n",
      "   ---------------------------------------- 76.7/76.7 kB ? eta 0:00:00\n",
      "Installing collected packages: xxhash, pyarrow-hotfix, pyarrow, multidict, frozenlist, dill, yarl, multiprocess, aiosignal, aiohttp, datasets\n",
      "Successfully installed aiohttp-3.9.5 aiosignal-1.3.1 datasets-2.19.0 dill-0.3.8 frozenlist-1.4.1 multidict-6.0.5 multiprocess-0.70.16 pyarrow-16.0.0 pyarrow-hotfix-0.6 xxhash-3.4.1 yarl-1.9.4\n",
      "Note: you may need to restart the kernel to use updated packages.\n"
     ]
    }
   ],
   "source": [
    "pip install datasets"
   ]
  },
  {
   "cell_type": "code",
   "execution_count": 4,
   "id": "44056086-c801-4c37-8a53-339876be4bf0",
   "metadata": {},
   "outputs": [
    {
     "data": {
      "application/vnd.jupyter.widget-view+json": {
       "model_id": "aea1c2e4997c4443853fc7773e6c3869",
       "version_major": 2,
       "version_minor": 0
      },
      "text/plain": [
       "Downloading readme:   0%|          | 0.00/9.40k [00:00<?, ?B/s]"
      ]
     },
     "metadata": {},
     "output_type": "display_data"
    },
    {
     "data": {
      "application/vnd.jupyter.widget-view+json": {
       "model_id": "022f407efff9450f82d991ad76a295f1",
       "version_major": 2,
       "version_minor": 0
      },
      "text/plain": [
       "Downloading data:   0%|          | 0.00/24.8M [00:00<?, ?B/s]"
      ]
     },
     "metadata": {},
     "output_type": "display_data"
    },
    {
     "data": {
      "application/vnd.jupyter.widget-view+json": {
       "model_id": "50270ffbdd7f4a36907f0b4d6cdfa953",
       "version_major": 2,
       "version_minor": 0
      },
      "text/plain": [
       "Generating train split:   0%|          | 0/211225 [00:00<?, ? examples/s]"
      ]
     },
     "metadata": {},
     "output_type": "display_data"
    }
   ],
   "source": [
    "import datasets\n",
    "from datasets import load_dataset\n",
    "\n",
    "dataset = load_dataset(\"go_emotions\", \"raw\")"
   ]
  },
  {
   "cell_type": "code",
   "execution_count": 8,
   "id": "ab18794e-675e-47b4-b7d7-807e0790cb2e",
   "metadata": {},
   "outputs": [
    {
     "name": "stdout",
     "output_type": "stream",
     "text": [
      "Dataset converted and saved to 'dataset.csv'\n"
     ]
    }
   ],
   "source": [
    "import csv\n",
    "csv_file_path = \"dataset.csv\"\n",
    "\n",
    "# Open the CSV file in write mode\n",
    "with open(csv_file_path, mode='w', newline='', encoding='utf-8') as file:\n",
    "    # Create a CSV writer object\n",
    "    csv_writer = csv.writer(file)\n",
    "\n",
    "    # Write the header\n",
    "    csv_writer.writerow(dataset['train'].column_names)\n",
    "\n",
    "    # Write each row of the dataset to the CSV file\n",
    "    for example in dataset['train']:\n",
    "        csv_writer.writerow([example[column] for column in dataset['train'].column_names])\n",
    "\n",
    "print(f\"Dataset converted and saved to '{csv_file_path}'\")"
   ]
  },
  {
   "cell_type": "code",
   "execution_count": 10,
   "id": "e6d81a9c-22ba-4146-9d6d-83a5e90665a3",
   "metadata": {},
   "outputs": [
    {
     "data": {
      "text/html": [
       "<div>\n",
       "<style scoped>\n",
       "    .dataframe tbody tr th:only-of-type {\n",
       "        vertical-align: middle;\n",
       "    }\n",
       "\n",
       "    .dataframe tbody tr th {\n",
       "        vertical-align: top;\n",
       "    }\n",
       "\n",
       "    .dataframe thead th {\n",
       "        text-align: right;\n",
       "    }\n",
       "</style>\n",
       "<table border=\"1\" class=\"dataframe\">\n",
       "  <thead>\n",
       "    <tr style=\"text-align: right;\">\n",
       "      <th></th>\n",
       "      <th>text</th>\n",
       "      <th>id</th>\n",
       "      <th>author</th>\n",
       "      <th>subreddit</th>\n",
       "      <th>link_id</th>\n",
       "      <th>parent_id</th>\n",
       "      <th>created_utc</th>\n",
       "      <th>rater_id</th>\n",
       "      <th>example_very_unclear</th>\n",
       "      <th>admiration</th>\n",
       "      <th>...</th>\n",
       "      <th>love</th>\n",
       "      <th>nervousness</th>\n",
       "      <th>optimism</th>\n",
       "      <th>pride</th>\n",
       "      <th>realization</th>\n",
       "      <th>relief</th>\n",
       "      <th>remorse</th>\n",
       "      <th>sadness</th>\n",
       "      <th>surprise</th>\n",
       "      <th>neutral</th>\n",
       "    </tr>\n",
       "  </thead>\n",
       "  <tbody>\n",
       "    <tr>\n",
       "      <th>0</th>\n",
       "      <td>That game hurt.</td>\n",
       "      <td>eew5j0j</td>\n",
       "      <td>Brdd9</td>\n",
       "      <td>nrl</td>\n",
       "      <td>t3_ajis4z</td>\n",
       "      <td>t1_eew18eq</td>\n",
       "      <td>1.548381e+09</td>\n",
       "      <td>1</td>\n",
       "      <td>False</td>\n",
       "      <td>0</td>\n",
       "      <td>...</td>\n",
       "      <td>0</td>\n",
       "      <td>0</td>\n",
       "      <td>0</td>\n",
       "      <td>0</td>\n",
       "      <td>0</td>\n",
       "      <td>0</td>\n",
       "      <td>0</td>\n",
       "      <td>1</td>\n",
       "      <td>0</td>\n",
       "      <td>0</td>\n",
       "    </tr>\n",
       "    <tr>\n",
       "      <th>1</th>\n",
       "      <td>&gt;sexuality shouldn’t be a grouping category I...</td>\n",
       "      <td>eemcysk</td>\n",
       "      <td>TheGreen888</td>\n",
       "      <td>unpopularopinion</td>\n",
       "      <td>t3_ai4q37</td>\n",
       "      <td>t3_ai4q37</td>\n",
       "      <td>1.548084e+09</td>\n",
       "      <td>37</td>\n",
       "      <td>False</td>\n",
       "      <td>0</td>\n",
       "      <td>...</td>\n",
       "      <td>0</td>\n",
       "      <td>0</td>\n",
       "      <td>0</td>\n",
       "      <td>0</td>\n",
       "      <td>0</td>\n",
       "      <td>0</td>\n",
       "      <td>0</td>\n",
       "      <td>0</td>\n",
       "      <td>0</td>\n",
       "      <td>0</td>\n",
       "    </tr>\n",
       "    <tr>\n",
       "      <th>2</th>\n",
       "      <td>You do right, if you don't care then fuck 'em!</td>\n",
       "      <td>ed2mah1</td>\n",
       "      <td>Labalool</td>\n",
       "      <td>confessions</td>\n",
       "      <td>t3_abru74</td>\n",
       "      <td>t1_ed2m7g7</td>\n",
       "      <td>1.546428e+09</td>\n",
       "      <td>37</td>\n",
       "      <td>False</td>\n",
       "      <td>0</td>\n",
       "      <td>...</td>\n",
       "      <td>0</td>\n",
       "      <td>0</td>\n",
       "      <td>0</td>\n",
       "      <td>0</td>\n",
       "      <td>0</td>\n",
       "      <td>0</td>\n",
       "      <td>0</td>\n",
       "      <td>0</td>\n",
       "      <td>0</td>\n",
       "      <td>1</td>\n",
       "    </tr>\n",
       "    <tr>\n",
       "      <th>3</th>\n",
       "      <td>Man I love reddit.</td>\n",
       "      <td>eeibobj</td>\n",
       "      <td>MrsRobertshaw</td>\n",
       "      <td>facepalm</td>\n",
       "      <td>t3_ahulml</td>\n",
       "      <td>t3_ahulml</td>\n",
       "      <td>1.547965e+09</td>\n",
       "      <td>18</td>\n",
       "      <td>False</td>\n",
       "      <td>0</td>\n",
       "      <td>...</td>\n",
       "      <td>1</td>\n",
       "      <td>0</td>\n",
       "      <td>0</td>\n",
       "      <td>0</td>\n",
       "      <td>0</td>\n",
       "      <td>0</td>\n",
       "      <td>0</td>\n",
       "      <td>0</td>\n",
       "      <td>0</td>\n",
       "      <td>0</td>\n",
       "    </tr>\n",
       "    <tr>\n",
       "      <th>4</th>\n",
       "      <td>[NAME] was nowhere near them, he was by the Fa...</td>\n",
       "      <td>eda6yn6</td>\n",
       "      <td>American_Fascist713</td>\n",
       "      <td>starwarsspeculation</td>\n",
       "      <td>t3_ackt2f</td>\n",
       "      <td>t1_eda65q2</td>\n",
       "      <td>1.546669e+09</td>\n",
       "      <td>2</td>\n",
       "      <td>False</td>\n",
       "      <td>0</td>\n",
       "      <td>...</td>\n",
       "      <td>0</td>\n",
       "      <td>0</td>\n",
       "      <td>0</td>\n",
       "      <td>0</td>\n",
       "      <td>0</td>\n",
       "      <td>0</td>\n",
       "      <td>0</td>\n",
       "      <td>0</td>\n",
       "      <td>0</td>\n",
       "      <td>1</td>\n",
       "    </tr>\n",
       "  </tbody>\n",
       "</table>\n",
       "<p>5 rows × 37 columns</p>\n",
       "</div>"
      ],
      "text/plain": [
       "                                                text       id  \\\n",
       "0                                    That game hurt.  eew5j0j   \n",
       "1   >sexuality shouldn’t be a grouping category I...  eemcysk   \n",
       "2     You do right, if you don't care then fuck 'em!  ed2mah1   \n",
       "3                                 Man I love reddit.  eeibobj   \n",
       "4  [NAME] was nowhere near them, he was by the Fa...  eda6yn6   \n",
       "\n",
       "                author            subreddit    link_id   parent_id  \\\n",
       "0                Brdd9                  nrl  t3_ajis4z  t1_eew18eq   \n",
       "1          TheGreen888     unpopularopinion  t3_ai4q37   t3_ai4q37   \n",
       "2             Labalool          confessions  t3_abru74  t1_ed2m7g7   \n",
       "3        MrsRobertshaw             facepalm  t3_ahulml   t3_ahulml   \n",
       "4  American_Fascist713  starwarsspeculation  t3_ackt2f  t1_eda65q2   \n",
       "\n",
       "    created_utc  rater_id  example_very_unclear  admiration  ...  love  \\\n",
       "0  1.548381e+09         1                 False           0  ...     0   \n",
       "1  1.548084e+09        37                 False           0  ...     0   \n",
       "2  1.546428e+09        37                 False           0  ...     0   \n",
       "3  1.547965e+09        18                 False           0  ...     1   \n",
       "4  1.546669e+09         2                 False           0  ...     0   \n",
       "\n",
       "   nervousness  optimism  pride  realization  relief  remorse  sadness  \\\n",
       "0            0         0      0            0       0        0        1   \n",
       "1            0         0      0            0       0        0        0   \n",
       "2            0         0      0            0       0        0        0   \n",
       "3            0         0      0            0       0        0        0   \n",
       "4            0         0      0            0       0        0        0   \n",
       "\n",
       "   surprise  neutral  \n",
       "0         0        0  \n",
       "1         0        0  \n",
       "2         0        1  \n",
       "3         0        0  \n",
       "4         0        1  \n",
       "\n",
       "[5 rows x 37 columns]"
      ]
     },
     "execution_count": 10,
     "metadata": {},
     "output_type": "execute_result"
    }
   ],
   "source": [
    "import pandas as pd\n",
    "train_df = pd.read_csv('dataset.csv')\n",
    "train_df.head()"
   ]
  },
  {
   "cell_type": "code",
   "execution_count": 11,
   "id": "cadb0cc5-5159-488e-99bf-30b057a8aff5",
   "metadata": {},
   "outputs": [
    {
     "name": "stdout",
     "output_type": "stream",
     "text": [
      "(211225, 37)\n",
      "Index(['text', 'id', 'author', 'subreddit', 'link_id', 'parent_id',\n",
      "       'created_utc', 'rater_id', 'example_very_unclear', 'admiration',\n",
      "       'amusement', 'anger', 'annoyance', 'approval', 'caring', 'confusion',\n",
      "       'curiosity', 'desire', 'disappointment', 'disapproval', 'disgust',\n",
      "       'embarrassment', 'excitement', 'fear', 'gratitude', 'grief', 'joy',\n",
      "       'love', 'nervousness', 'optimism', 'pride', 'realization', 'relief',\n",
      "       'remorse', 'sadness', 'surprise', 'neutral'],\n",
      "      dtype='object')\n"
     ]
    }
   ],
   "source": [
    "print(train_df.shape)\n",
    "cols = train_df.columns\n",
    "print(cols)"
   ]
  },
  {
   "cell_type": "code",
   "execution_count": 13,
   "id": "33287707-21a1-4b1e-b683-9944e92ef1e1",
   "metadata": {},
   "outputs": [],
   "source": [
    "pos_labels = ['admiration','approval', 'amusement', 'caring', 'desire', \n",
    "              'excitement', 'gratitude', 'joy', 'love','optimism', 'pride', 'relief']\n",
    "neg_labels = ['anger', 'annoyance', 'disappointment', 'disapproval', 'disgust',\n",
    "              'embarrassment','fear', 'grief', 'nervousness', 'remorse', 'sadness']\n",
    "ambi_labels = ['confusion', 'curiosity', 'realization', 'surprise']"
   ]
  },
  {
   "cell_type": "code",
   "execution_count": 14,
   "id": "c7ba1b47-236d-4c6b-a780-00bf6ef74f40",
   "metadata": {},
   "outputs": [],
   "source": [
    "emotion_count = {}\n",
    "category_count = {}\n",
    "\n",
    "pos_sum = 0\n",
    "for label in pos_labels:\n",
    "    df = train_df[train_df[label]==1]\n",
    "    emotion_count[label] = len(df)\n",
    "    pos_sum += len(df)\n",
    "category_count['positive'] = pos_sum\n",
    "\n",
    "neg_sum = 0\n",
    "for label in neg_labels:\n",
    "    df = train_df[train_df[label]==1]\n",
    "    emotion_count[label] = len(df)\n",
    "    neg_sum += len(df)\n",
    "category_count['negative'] = neg_sum\n",
    "\n",
    "ambi_sum = 0\n",
    "for label in ambi_labels:\n",
    "    df = train_df[train_df[label]==1]\n",
    "    emotion_count[label] = len(df)\n",
    "    ambi_sum += len(df)\n",
    "\n",
    "df = train_df[train_df['neutral']==1]\n",
    "emotion_count['neutral'] = len(df)\n",
    "ambi_sum += len(df)\n",
    "category_count['neutral'] = ambi_sum"
   ]
  },
  {
   "cell_type": "code",
   "execution_count": 15,
   "id": "c97fb4f1-ceec-4b77-a44b-e7d3aee07f41",
   "metadata": {},
   "outputs": [
    {
     "data": {
      "text/plain": [
       "{'admiration': 17131,\n",
       " 'approval': 17620,\n",
       " 'amusement': 9245,\n",
       " 'caring': 5999,\n",
       " 'desire': 3817,\n",
       " 'excitement': 5629,\n",
       " 'gratitude': 11625,\n",
       " 'joy': 7983,\n",
       " 'love': 8191,\n",
       " 'optimism': 8715,\n",
       " 'pride': 1302,\n",
       " 'relief': 1289,\n",
       " 'anger': 8084,\n",
       " 'annoyance': 13618,\n",
       " 'disappointment': 8469,\n",
       " 'disapproval': 11424,\n",
       " 'disgust': 5301,\n",
       " 'embarrassment': 2476,\n",
       " 'fear': 3197,\n",
       " 'grief': 673,\n",
       " 'nervousness': 1810,\n",
       " 'remorse': 2525,\n",
       " 'sadness': 6758,\n",
       " 'confusion': 7359,\n",
       " 'curiosity': 9692,\n",
       " 'realization': 8785,\n",
       " 'surprise': 5514,\n",
       " 'neutral': 55298}"
      ]
     },
     "execution_count": 15,
     "metadata": {},
     "output_type": "execute_result"
    }
   ],
   "source": [
    "emotion_count"
   ]
  },
  {
   "cell_type": "code",
   "execution_count": 16,
   "id": "7c86de04-5d60-46f0-b93b-0dd2c705dfa6",
   "metadata": {},
   "outputs": [
    {
     "data": {
      "text/plain": [
       "{'positive': 98546, 'negative': 64335, 'neutral': 86648}"
      ]
     },
     "execution_count": 16,
     "metadata": {},
     "output_type": "execute_result"
    }
   ],
   "source": [
    "category_count"
   ]
  },
  {
   "cell_type": "code",
   "execution_count": 18,
   "id": "f53c76b5-e25d-4b11-a564-01d78e087b8a",
   "metadata": {},
   "outputs": [
    {
     "data": {
      "text/html": [
       "<div>\n",
       "<style scoped>\n",
       "    .dataframe tbody tr th:only-of-type {\n",
       "        vertical-align: middle;\n",
       "    }\n",
       "\n",
       "    .dataframe tbody tr th {\n",
       "        vertical-align: top;\n",
       "    }\n",
       "\n",
       "    .dataframe thead th {\n",
       "        text-align: right;\n",
       "    }\n",
       "</style>\n",
       "<table border=\"1\" class=\"dataframe\">\n",
       "  <thead>\n",
       "    <tr style=\"text-align: right;\">\n",
       "      <th></th>\n",
       "      <th>text</th>\n",
       "      <th>sentiment_label</th>\n",
       "    </tr>\n",
       "  </thead>\n",
       "  <tbody>\n",
       "    <tr>\n",
       "      <th>0</th>\n",
       "      <td>That game hurt.</td>\n",
       "      <td>0</td>\n",
       "    </tr>\n",
       "    <tr>\n",
       "      <th>1</th>\n",
       "      <td>&gt;sexuality shouldn’t be a grouping category I...</td>\n",
       "      <td>1</td>\n",
       "    </tr>\n",
       "    <tr>\n",
       "      <th>2</th>\n",
       "      <td>You do right, if you don't care then fuck 'em!</td>\n",
       "      <td>2</td>\n",
       "    </tr>\n",
       "    <tr>\n",
       "      <th>3</th>\n",
       "      <td>Man I love reddit.</td>\n",
       "      <td>1</td>\n",
       "    </tr>\n",
       "    <tr>\n",
       "      <th>4</th>\n",
       "      <td>[NAME] was nowhere near them, he was by the Fa...</td>\n",
       "      <td>2</td>\n",
       "    </tr>\n",
       "  </tbody>\n",
       "</table>\n",
       "</div>"
      ],
      "text/plain": [
       "                                                text sentiment_label\n",
       "0                                    That game hurt.               0\n",
       "1   >sexuality shouldn’t be a grouping category I...               1\n",
       "2     You do right, if you don't care then fuck 'em!               2\n",
       "3                                 Man I love reddit.               1\n",
       "4  [NAME] was nowhere near them, he was by the Fa...               2"
      ]
     },
     "execution_count": 18,
     "metadata": {},
     "output_type": "execute_result"
    }
   ],
   "source": [
    "# Sentiment analysis labels:\n",
    "# 0 : Negative, 1 : Positive, 2: Neutral/Ambigous\n",
    "import numpy as np\n",
    "col_names = ['text','sentiment_label']\n",
    "\n",
    "new_data = []\n",
    "for id,row in train_df.iterrows():\n",
    "    if row['example_very_unclear'] == True:\n",
    "        continue\n",
    "    else:\n",
    "        if row['neutral'] == True:\n",
    "            data = [row['text'], 2]\n",
    "        else:\n",
    "            pos = 0\n",
    "            neg = 0\n",
    "            neut = 0\n",
    "            max_cnt = -1\n",
    "            for label in pos_labels:\n",
    "                if row[label] == 1:\n",
    "                    pos += 1\n",
    "            max_cnt = max(pos,max_cnt)\n",
    "            for label in neg_labels:\n",
    "                if row[label] == 1:\n",
    "                    neg += 1\n",
    "            max_cnt = max(neg,max_cnt)\n",
    "            for label in ambi_labels:\n",
    "                if row[label] == 1:\n",
    "                    neut += 1\n",
    "            max_cnt = max(neut,max_cnt)\n",
    "            if max_cnt == pos:\n",
    "                data = [row['text'], 1]\n",
    "            elif max_cnt == neg:\n",
    "                data = [row['text'], 0]\n",
    "            else:\n",
    "                data = [row['text'], 2]\n",
    "        new_data.append(data)\n",
    "    \n",
    "sentiment_train_data = pd.DataFrame(np.array(new_data),columns=col_names)\n",
    "sentiment_train_data.head()"
   ]
  },
  {
   "cell_type": "code",
   "execution_count": 20,
   "id": "fb4ee2dc-a39e-469f-a0e7-8700acac9682",
   "metadata": {},
   "outputs": [],
   "source": [
    "sentiment_train_data.to_csv('sentiment_train.csv')"
   ]
  },
  {
   "cell_type": "code",
   "execution_count": 21,
   "id": "ba4d8cd2-59af-4cb9-b8fd-8a5bd5b08d8e",
   "metadata": {},
   "outputs": [],
   "source": [
    "anger_list = [ \"anger\", \"annoyance\", \"disapproval\", \"disgust\"]\n",
    "fear_list = [\"fear\", \"nervousness\"]\n",
    "joy_list = [\"joy\", \"amusement\", \"approval\", \"excitement\", \"gratitude\",\"love\", \"optimism\", \"relief\", \"pride\", \"admiration\", \"desire\", \"caring\"]\n",
    "sadness_list = [\"sadness\", \"disappointment\", \"embarrassment\", \"grief\", \"remorse\"]\n",
    "surprise_list = [\"surprise\", \"realization\", \"confusion\", \"curiosity\"]"
   ]
  },
  {
   "cell_type": "code",
   "execution_count": 22,
   "id": "e7cbaf2c-81b2-457c-a8a5-79c696756759",
   "metadata": {},
   "outputs": [],
   "source": [
    "emotion_groups = [anger_list, fear_list, joy_list, sadness_list, surprise_list]"
   ]
  },
  {
   "cell_type": "code",
   "execution_count": 23,
   "id": "b5535b7e-f60b-4825-9b5a-7d2ddf76a055",
   "metadata": {},
   "outputs": [
    {
     "data": {
      "text/html": [
       "<div>\n",
       "<style scoped>\n",
       "    .dataframe tbody tr th:only-of-type {\n",
       "        vertical-align: middle;\n",
       "    }\n",
       "\n",
       "    .dataframe tbody tr th {\n",
       "        vertical-align: top;\n",
       "    }\n",
       "\n",
       "    .dataframe thead th {\n",
       "        text-align: right;\n",
       "    }\n",
       "</style>\n",
       "<table border=\"1\" class=\"dataframe\">\n",
       "  <thead>\n",
       "    <tr style=\"text-align: right;\">\n",
       "      <th></th>\n",
       "      <th>text</th>\n",
       "      <th>group_label</th>\n",
       "    </tr>\n",
       "  </thead>\n",
       "  <tbody>\n",
       "    <tr>\n",
       "      <th>0</th>\n",
       "      <td>That game hurt.</td>\n",
       "      <td>3</td>\n",
       "    </tr>\n",
       "    <tr>\n",
       "      <th>1</th>\n",
       "      <td>&gt;sexuality shouldn’t be a grouping category I...</td>\n",
       "      <td>0</td>\n",
       "    </tr>\n",
       "    <tr>\n",
       "      <th>2</th>\n",
       "      <td>You do right, if you don't care then fuck 'em!</td>\n",
       "      <td>5</td>\n",
       "    </tr>\n",
       "    <tr>\n",
       "      <th>3</th>\n",
       "      <td>Man I love reddit.</td>\n",
       "      <td>2</td>\n",
       "    </tr>\n",
       "    <tr>\n",
       "      <th>4</th>\n",
       "      <td>[NAME] was nowhere near them, he was by the Fa...</td>\n",
       "      <td>5</td>\n",
       "    </tr>\n",
       "  </tbody>\n",
       "</table>\n",
       "</div>"
      ],
      "text/plain": [
       "                                                text group_label\n",
       "0                                    That game hurt.           3\n",
       "1   >sexuality shouldn’t be a grouping category I...           0\n",
       "2     You do right, if you don't care then fuck 'em!           5\n",
       "3                                 Man I love reddit.           2\n",
       "4  [NAME] was nowhere near them, he was by the Fa...           5"
      ]
     },
     "execution_count": 23,
     "metadata": {},
     "output_type": "execute_result"
    }
   ],
   "source": [
    "# Grouping emotions:\n",
    "\"\"\"\n",
    "Labels:\n",
    "Anger (0) : [“Anger”, “annoyance”, “disapproval”, “disgust”]\n",
    "Fear (1) : [“fear”, “nervousness” ]\n",
    "Joy (2) : [“joy” , “amusement”, “approval”, “excitement”, “gratitude”,\n",
    "     “love”, “optimism”, “relief”, “pride”, “admiration”, “desire”, “caring”]\n",
    "Sadness (3) : [“Sadness”, “Disappointment”, “Embarrassment”, “grief”, “remorse”]\n",
    "Surprise (4) : [“Surprise”, “Realization”, “confusion”, “curiosity”]\n",
    "Neutral (5) : [\"Neutral\"]\n",
    "\"\"\"\n",
    "\n",
    "col_names = ['text','group_label']\n",
    "\n",
    "new_data = []\n",
    "for id,row in train_df.iterrows():\n",
    "    if row['example_very_unclear'] == True:\n",
    "        continue\n",
    "    else:\n",
    "        if row['neutral'] == True:\n",
    "            data = [row['text'], 5]\n",
    "        else:\n",
    "            max_cnt = -1\n",
    "            max_label = -1\n",
    "            for ix,eg in enumerate(emotion_groups):\n",
    "                cnt = 0\n",
    "                for label in eg:\n",
    "                    if row[label] == 1:\n",
    "                        cnt += 1\n",
    "                if cnt > max_cnt:\n",
    "                    max_cnt = cnt\n",
    "                    max_label = ix\n",
    "            data = [row['text'], max_label]\n",
    "        new_data.append(data)\n",
    "    \n",
    "emotion_group_train = pd.DataFrame(np.array(new_data),columns=col_names)\n",
    "emotion_group_train.head()"
   ]
  },
  {
   "cell_type": "code",
   "execution_count": 25,
   "id": "712bfcb1-31d8-437c-9a53-2991724a1fca",
   "metadata": {},
   "outputs": [],
   "source": [
    "emotion_group_train.to_csv('group_train.csv')"
   ]
  },
  {
   "cell_type": "code",
   "execution_count": null,
   "id": "a561d69c-9a93-40d4-a181-d67400686e2d",
   "metadata": {},
   "outputs": [],
   "source": []
  }
 ],
 "metadata": {
  "kernelspec": {
   "display_name": "Python 3 (ipykernel)",
   "language": "python",
   "name": "python3"
  },
  "language_info": {
   "codemirror_mode": {
    "name": "ipython",
    "version": 3
   },
   "file_extension": ".py",
   "mimetype": "text/x-python",
   "name": "python",
   "nbconvert_exporter": "python",
   "pygments_lexer": "ipython3",
   "version": "3.9.13"
  },
  "widgets": {
   "application/vnd.jupyter.widget-state+json": {
    "state": {
     "022f407efff9450f82d991ad76a295f1": {
      "model_module": "@jupyter-widgets/controls",
      "model_module_version": "2.0.0",
      "model_name": "HBoxModel",
      "state": {
       "children": [
        "IPY_MODEL_8dfac66752e44c6e8fb5eccf67572547",
        "IPY_MODEL_20390c1dcebf4ecaa59e4f61fc0a3f89",
        "IPY_MODEL_2160524cca8c4a0d87992a55f19dc5e1"
       ],
       "layout": "IPY_MODEL_711e05828548484c967648904994737f"
      }
     },
     "1315ae61bf67465287965dfaeac4a350": {
      "model_module": "@jupyter-widgets/base",
      "model_module_version": "2.0.0",
      "model_name": "LayoutModel",
      "state": {}
     },
     "15c1a9ef5c5e4ea987924ac11387ed47": {
      "model_module": "@jupyter-widgets/base",
      "model_module_version": "2.0.0",
      "model_name": "LayoutModel",
      "state": {}
     },
     "1b35a4f157664fcd8dfa07dfb462b465": {
      "model_module": "@jupyter-widgets/controls",
      "model_module_version": "2.0.0",
      "model_name": "HTMLModel",
      "state": {
       "layout": "IPY_MODEL_6d8aea900bf1404f9ae2a9272a1b8b47",
       "style": "IPY_MODEL_5fb6dcfd13a44ecdaf595fd737c066a0",
       "value": " 9.40k/9.40k [00:00&lt;00:00, 601kB/s]"
      }
     },
     "20390c1dcebf4ecaa59e4f61fc0a3f89": {
      "model_module": "@jupyter-widgets/controls",
      "model_module_version": "2.0.0",
      "model_name": "FloatProgressModel",
      "state": {
       "bar_style": "success",
       "layout": "IPY_MODEL_cc0a551cdbec40a4bc5bfd9b18e4d4fa",
       "max": 24828322,
       "style": "IPY_MODEL_717ebf2b25f8456e81e69d6b55658853",
       "value": 24828322
      }
     },
     "2160524cca8c4a0d87992a55f19dc5e1": {
      "model_module": "@jupyter-widgets/controls",
      "model_module_version": "2.0.0",
      "model_name": "HTMLModel",
      "state": {
       "layout": "IPY_MODEL_1315ae61bf67465287965dfaeac4a350",
       "style": "IPY_MODEL_60bde318e8c34e3eba7d52e5bf538170",
       "value": " 24.8M/24.8M [00:02&lt;00:00, 9.05MB/s]"
      }
     },
     "21785af92d8a4bdab548bcf1626a330d": {
      "model_module": "@jupyter-widgets/controls",
      "model_module_version": "2.0.0",
      "model_name": "HTMLStyleModel",
      "state": {
       "description_width": "",
       "font_size": null,
       "text_color": null
      }
     },
     "2a1203681b9e4b1c9926e616a313587d": {
      "model_module": "@jupyter-widgets/controls",
      "model_module_version": "2.0.0",
      "model_name": "HTMLModel",
      "state": {
       "layout": "IPY_MODEL_388ea9178596470f9cbf0f295c5a2d66",
       "style": "IPY_MODEL_6561f1b6e2834ab2a1224b07201074a7",
       "value": " 1/1 [00:00&lt;?, ?it/s]"
      }
     },
     "2a53e7fb31c94f408a103b82c2178ef4": {
      "model_module": "@jupyter-widgets/controls",
      "model_module_version": "2.0.0",
      "model_name": "HTMLModel",
      "state": {
       "layout": "IPY_MODEL_4edcc2869c7a4344b68ce0b0303d643d",
       "style": "IPY_MODEL_21785af92d8a4bdab548bcf1626a330d",
       "value": "Downloading readme: 100%"
      }
     },
     "2f394214fd15412da1af3627c1b05d5b": {
      "model_module": "@jupyter-widgets/base",
      "model_module_version": "2.0.0",
      "model_name": "LayoutModel",
      "state": {}
     },
     "315bf3491b3c471b8f16fee5299717b2": {
      "model_module": "@jupyter-widgets/controls",
      "model_module_version": "2.0.0",
      "model_name": "HTMLStyleModel",
      "state": {
       "description_width": "",
       "font_size": null,
       "text_color": null
      }
     },
     "388ea9178596470f9cbf0f295c5a2d66": {
      "model_module": "@jupyter-widgets/base",
      "model_module_version": "2.0.0",
      "model_name": "LayoutModel",
      "state": {}
     },
     "3f7fbaf672a442329e5fc522d0a580c3": {
      "model_module": "@jupyter-widgets/controls",
      "model_module_version": "2.0.0",
      "model_name": "HTMLStyleModel",
      "state": {
       "description_width": "",
       "font_size": null,
       "text_color": null
      }
     },
     "4edcc2869c7a4344b68ce0b0303d643d": {
      "model_module": "@jupyter-widgets/base",
      "model_module_version": "2.0.0",
      "model_name": "LayoutModel",
      "state": {}
     },
     "50270ffbdd7f4a36907f0b4d6cdfa953": {
      "model_module": "@jupyter-widgets/controls",
      "model_module_version": "2.0.0",
      "model_name": "HBoxModel",
      "state": {
       "children": [
        "IPY_MODEL_5c34fc2c7e354fce80cb7d54830d404c",
        "IPY_MODEL_698ad6580b6b4059972f48d0ca661661",
        "IPY_MODEL_e968be521cd84622b3601db67dab0ee9"
       ],
       "layout": "IPY_MODEL_ebf81ecbe57347d084585de147aa1d57"
      }
     },
     "5c34fc2c7e354fce80cb7d54830d404c": {
      "model_module": "@jupyter-widgets/controls",
      "model_module_version": "2.0.0",
      "model_name": "HTMLModel",
      "state": {
       "layout": "IPY_MODEL_a839e9187ddc44638afc5dd3c11514b8",
       "style": "IPY_MODEL_c03fb1c6cab746699469ea544515c9d2",
       "value": "Generating train split: 100%"
      }
     },
     "5fb6dcfd13a44ecdaf595fd737c066a0": {
      "model_module": "@jupyter-widgets/controls",
      "model_module_version": "2.0.0",
      "model_name": "HTMLStyleModel",
      "state": {
       "description_width": "",
       "font_size": null,
       "text_color": null
      }
     },
     "60bde318e8c34e3eba7d52e5bf538170": {
      "model_module": "@jupyter-widgets/controls",
      "model_module_version": "2.0.0",
      "model_name": "HTMLStyleModel",
      "state": {
       "description_width": "",
       "font_size": null,
       "text_color": null
      }
     },
     "63596742fedd4a05b90de1a8d0ebb2e4": {
      "model_module": "@jupyter-widgets/controls",
      "model_module_version": "2.0.0",
      "model_name": "ProgressStyleModel",
      "state": {
       "description_width": ""
      }
     },
     "6561f1b6e2834ab2a1224b07201074a7": {
      "model_module": "@jupyter-widgets/controls",
      "model_module_version": "2.0.0",
      "model_name": "HTMLStyleModel",
      "state": {
       "description_width": "",
       "font_size": null,
       "text_color": null
      }
     },
     "698ad6580b6b4059972f48d0ca661661": {
      "model_module": "@jupyter-widgets/controls",
      "model_module_version": "2.0.0",
      "model_name": "FloatProgressModel",
      "state": {
       "bar_style": "success",
       "layout": "IPY_MODEL_e832c0e9ba9448139c6a028fdd794362",
       "max": 211225,
       "style": "IPY_MODEL_b1ac140c7a7349bfa02206d4bd8345a7",
       "value": 211225
      }
     },
     "6d8aea900bf1404f9ae2a9272a1b8b47": {
      "model_module": "@jupyter-widgets/base",
      "model_module_version": "2.0.0",
      "model_name": "LayoutModel",
      "state": {}
     },
     "711e05828548484c967648904994737f": {
      "model_module": "@jupyter-widgets/base",
      "model_module_version": "2.0.0",
      "model_name": "LayoutModel",
      "state": {}
     },
     "717ebf2b25f8456e81e69d6b55658853": {
      "model_module": "@jupyter-widgets/controls",
      "model_module_version": "2.0.0",
      "model_name": "ProgressStyleModel",
      "state": {
       "description_width": ""
      }
     },
     "8dfac66752e44c6e8fb5eccf67572547": {
      "model_module": "@jupyter-widgets/controls",
      "model_module_version": "2.0.0",
      "model_name": "HTMLModel",
      "state": {
       "layout": "IPY_MODEL_bd104de2640044d2a73da3648a6930dc",
       "style": "IPY_MODEL_3f7fbaf672a442329e5fc522d0a580c3",
       "value": "Downloading data: 100%"
      }
     },
     "9cfc08f3ba9045cfa9f04cfc0a202040": {
      "model_module": "@jupyter-widgets/controls",
      "model_module_version": "2.0.0",
      "model_name": "HBoxModel",
      "state": {
       "children": [
        "IPY_MODEL_a99852bdac744b0aaea12466ec65bc8b",
        "IPY_MODEL_fa1616b18894410b878ca24c83d5ecb7",
        "IPY_MODEL_2a1203681b9e4b1c9926e616a313587d"
       ],
       "layout": "IPY_MODEL_c3a7f3bc35684c01b505be177378ee40"
      }
     },
     "a5cf84c610ca4868812b9457b41c19ef": {
      "model_module": "@jupyter-widgets/base",
      "model_module_version": "2.0.0",
      "model_name": "LayoutModel",
      "state": {}
     },
     "a839e9187ddc44638afc5dd3c11514b8": {
      "model_module": "@jupyter-widgets/base",
      "model_module_version": "2.0.0",
      "model_name": "LayoutModel",
      "state": {}
     },
     "a99852bdac744b0aaea12466ec65bc8b": {
      "model_module": "@jupyter-widgets/controls",
      "model_module_version": "2.0.0",
      "model_name": "HTMLModel",
      "state": {
       "layout": "IPY_MODEL_2f394214fd15412da1af3627c1b05d5b",
       "style": "IPY_MODEL_315bf3491b3c471b8f16fee5299717b2",
       "value": "Computing checksums: 100%"
      }
     },
     "aea1c2e4997c4443853fc7773e6c3869": {
      "model_module": "@jupyter-widgets/controls",
      "model_module_version": "2.0.0",
      "model_name": "HBoxModel",
      "state": {
       "children": [
        "IPY_MODEL_2a53e7fb31c94f408a103b82c2178ef4",
        "IPY_MODEL_f62144a8d8c242e9b12aa9fffaad084a",
        "IPY_MODEL_1b35a4f157664fcd8dfa07dfb462b465"
       ],
       "layout": "IPY_MODEL_b7a34b07ef2440d798704dfbb593fee6"
      }
     },
     "b1ac140c7a7349bfa02206d4bd8345a7": {
      "model_module": "@jupyter-widgets/controls",
      "model_module_version": "2.0.0",
      "model_name": "ProgressStyleModel",
      "state": {
       "description_width": ""
      }
     },
     "b3fde21aaadb4e70adacc4570c7ef4b9": {
      "model_module": "@jupyter-widgets/controls",
      "model_module_version": "2.0.0",
      "model_name": "ProgressStyleModel",
      "state": {
       "description_width": ""
      }
     },
     "b7a34b07ef2440d798704dfbb593fee6": {
      "model_module": "@jupyter-widgets/base",
      "model_module_version": "2.0.0",
      "model_name": "LayoutModel",
      "state": {}
     },
     "bd104de2640044d2a73da3648a6930dc": {
      "model_module": "@jupyter-widgets/base",
      "model_module_version": "2.0.0",
      "model_name": "LayoutModel",
      "state": {}
     },
     "c03fb1c6cab746699469ea544515c9d2": {
      "model_module": "@jupyter-widgets/controls",
      "model_module_version": "2.0.0",
      "model_name": "HTMLStyleModel",
      "state": {
       "description_width": "",
       "font_size": null,
       "text_color": null
      }
     },
     "c3a7f3bc35684c01b505be177378ee40": {
      "model_module": "@jupyter-widgets/base",
      "model_module_version": "2.0.0",
      "model_name": "LayoutModel",
      "state": {}
     },
     "cc0a551cdbec40a4bc5bfd9b18e4d4fa": {
      "model_module": "@jupyter-widgets/base",
      "model_module_version": "2.0.0",
      "model_name": "LayoutModel",
      "state": {}
     },
     "e832c0e9ba9448139c6a028fdd794362": {
      "model_module": "@jupyter-widgets/base",
      "model_module_version": "2.0.0",
      "model_name": "LayoutModel",
      "state": {}
     },
     "e89b6a32a8c44bb1baba0d9554164f9f": {
      "model_module": "@jupyter-widgets/base",
      "model_module_version": "2.0.0",
      "model_name": "LayoutModel",
      "state": {}
     },
     "e968be521cd84622b3601db67dab0ee9": {
      "model_module": "@jupyter-widgets/controls",
      "model_module_version": "2.0.0",
      "model_name": "HTMLModel",
      "state": {
       "layout": "IPY_MODEL_e89b6a32a8c44bb1baba0d9554164f9f",
       "style": "IPY_MODEL_f3b22a83814d4e99b3e365fff787f481",
       "value": " 211225/211225 [00:01&lt;00:00, 231042.84 examples/s]"
      }
     },
     "ebf81ecbe57347d084585de147aa1d57": {
      "model_module": "@jupyter-widgets/base",
      "model_module_version": "2.0.0",
      "model_name": "LayoutModel",
      "state": {}
     },
     "f3b22a83814d4e99b3e365fff787f481": {
      "model_module": "@jupyter-widgets/controls",
      "model_module_version": "2.0.0",
      "model_name": "HTMLStyleModel",
      "state": {
       "description_width": "",
       "font_size": null,
       "text_color": null
      }
     },
     "f62144a8d8c242e9b12aa9fffaad084a": {
      "model_module": "@jupyter-widgets/controls",
      "model_module_version": "2.0.0",
      "model_name": "FloatProgressModel",
      "state": {
       "bar_style": "success",
       "layout": "IPY_MODEL_15c1a9ef5c5e4ea987924ac11387ed47",
       "max": 9399,
       "style": "IPY_MODEL_b3fde21aaadb4e70adacc4570c7ef4b9",
       "value": 9399
      }
     },
     "fa1616b18894410b878ca24c83d5ecb7": {
      "model_module": "@jupyter-widgets/controls",
      "model_module_version": "2.0.0",
      "model_name": "FloatProgressModel",
      "state": {
       "bar_style": "success",
       "layout": "IPY_MODEL_a5cf84c610ca4868812b9457b41c19ef",
       "max": 1,
       "style": "IPY_MODEL_63596742fedd4a05b90de1a8d0ebb2e4",
       "value": 1
      }
     }
    },
    "version_major": 2,
    "version_minor": 0
   }
  }
 },
 "nbformat": 4,
 "nbformat_minor": 5
}
